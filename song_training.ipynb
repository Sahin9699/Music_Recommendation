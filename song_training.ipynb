{
 "cells": [
  {
   "cell_type": "code",
   "execution_count": 1,
   "id": "initial_id",
   "metadata": {
    "collapsed": true,
    "ExecuteTime": {
     "end_time": "2023-09-28T09:36:27.566806Z",
     "start_time": "2023-09-28T09:36:25.555924Z"
    }
   },
   "outputs": [
    {
     "name": "stdout",
     "output_type": "stream",
     "text": [
      "Intel MKL WARNING: Support of Intel(R) Streaming SIMD Extensions 4.2 (Intel(R) SSE4.2) enabled only processors has been deprecated. Intel oneAPI Math Kernel Library 2025.0 will require Intel(R) Advanced Vector Extensions (Intel(R) AVX) instructions.\n",
      "Intel MKL WARNING: Support of Intel(R) Streaming SIMD Extensions 4.2 (Intel(R) SSE4.2) enabled only processors has been deprecated. Intel oneAPI Math Kernel Library 2025.0 will require Intel(R) Advanced Vector Extensions (Intel(R) AVX) instructions.\n"
     ]
    }
   ],
   "source": [
    "import pandas as pd\n",
    "import numpy as np"
   ]
  },
  {
   "cell_type": "code",
   "execution_count": 3,
   "outputs": [],
   "source": [
    "df = pd.read_csv(\"/Users/sahin9699/Downloads/spotify_millsongdata.csv\")"
   ],
   "metadata": {
    "collapsed": false,
    "ExecuteTime": {
     "end_time": "2023-09-28T09:38:43.278706Z",
     "start_time": "2023-09-28T09:38:42.013583Z"
    }
   },
   "id": "78b4300e2c1f4193"
  },
  {
   "cell_type": "code",
   "execution_count": 4,
   "outputs": [
    {
     "data": {
      "text/plain": "  artist                   song                                        link  \\\n0   ABBA  Ahe's My Kind Of Girl  /a/abba/ahes+my+kind+of+girl_20598417.html   \n1   ABBA       Andante, Andante       /a/abba/andante+andante_20002708.html   \n2   ABBA         As Good As New        /a/abba/as+good+as+new_20003033.html   \n3   ABBA                   Bang                  /a/abba/bang_20598415.html   \n4   ABBA       Bang-A-Boomerang      /a/abba/bang+a+boomerang_20002668.html   \n\n                                                text  \n0  Look at her face, it's a wonderful face  \\r\\nA...  \n1  Take it easy with me, please  \\r\\nTouch me gen...  \n2  I'll never know why I had to go  \\r\\nWhy I had...  \n3  Making somebody happy is a question of give an...  \n4  Making somebody happy is a question of give an...  ",
      "text/html": "<div>\n<style scoped>\n    .dataframe tbody tr th:only-of-type {\n        vertical-align: middle;\n    }\n\n    .dataframe tbody tr th {\n        vertical-align: top;\n    }\n\n    .dataframe thead th {\n        text-align: right;\n    }\n</style>\n<table border=\"1\" class=\"dataframe\">\n  <thead>\n    <tr style=\"text-align: right;\">\n      <th></th>\n      <th>artist</th>\n      <th>song</th>\n      <th>link</th>\n      <th>text</th>\n    </tr>\n  </thead>\n  <tbody>\n    <tr>\n      <th>0</th>\n      <td>ABBA</td>\n      <td>Ahe's My Kind Of Girl</td>\n      <td>/a/abba/ahes+my+kind+of+girl_20598417.html</td>\n      <td>Look at her face, it's a wonderful face  \\r\\nA...</td>\n    </tr>\n    <tr>\n      <th>1</th>\n      <td>ABBA</td>\n      <td>Andante, Andante</td>\n      <td>/a/abba/andante+andante_20002708.html</td>\n      <td>Take it easy with me, please  \\r\\nTouch me gen...</td>\n    </tr>\n    <tr>\n      <th>2</th>\n      <td>ABBA</td>\n      <td>As Good As New</td>\n      <td>/a/abba/as+good+as+new_20003033.html</td>\n      <td>I'll never know why I had to go  \\r\\nWhy I had...</td>\n    </tr>\n    <tr>\n      <th>3</th>\n      <td>ABBA</td>\n      <td>Bang</td>\n      <td>/a/abba/bang_20598415.html</td>\n      <td>Making somebody happy is a question of give an...</td>\n    </tr>\n    <tr>\n      <th>4</th>\n      <td>ABBA</td>\n      <td>Bang-A-Boomerang</td>\n      <td>/a/abba/bang+a+boomerang_20002668.html</td>\n      <td>Making somebody happy is a question of give an...</td>\n    </tr>\n  </tbody>\n</table>\n</div>"
     },
     "execution_count": 4,
     "metadata": {},
     "output_type": "execute_result"
    }
   ],
   "source": [
    "df.head(5)"
   ],
   "metadata": {
    "collapsed": false,
    "ExecuteTime": {
     "end_time": "2023-09-28T09:38:43.297195Z",
     "start_time": "2023-09-28T09:38:43.279087Z"
    }
   },
   "id": "91151af78c2ab442"
  },
  {
   "cell_type": "code",
   "execution_count": 5,
   "outputs": [
    {
     "data": {
      "text/plain": "             artist           song  \\\n57645  Ziggy Marley  Good Old Days   \n57646  Ziggy Marley  Hand To Mouth   \n57647          Zwan   Come With Me   \n57648          Zwan         Desire   \n57649          Zwan      Heartsong   \n\n                                              link  \\\n57645  /z/ziggy+marley/good+old+days_10198588.html   \n57646  /z/ziggy+marley/hand+to+mouth_20531167.html   \n57647           /z/zwan/come+with+me_20148981.html   \n57648                 /z/zwan/desire_20148986.html   \n57649              /z/zwan/heartsong_20148991.html   \n\n                                                    text  \n57645  Irie days come on play  \\r\\nLet the angels fly...  \n57646  Power to the workers  \\r\\nMore power  \\r\\nPowe...  \n57647  all you need  \\r\\nis something i'll believe  \\...  \n57648  northern star  \\r\\nam i frightened  \\r\\nwhere ...  \n57649  come in  \\r\\nmake yourself at home  \\r\\ni'm a ...  ",
      "text/html": "<div>\n<style scoped>\n    .dataframe tbody tr th:only-of-type {\n        vertical-align: middle;\n    }\n\n    .dataframe tbody tr th {\n        vertical-align: top;\n    }\n\n    .dataframe thead th {\n        text-align: right;\n    }\n</style>\n<table border=\"1\" class=\"dataframe\">\n  <thead>\n    <tr style=\"text-align: right;\">\n      <th></th>\n      <th>artist</th>\n      <th>song</th>\n      <th>link</th>\n      <th>text</th>\n    </tr>\n  </thead>\n  <tbody>\n    <tr>\n      <th>57645</th>\n      <td>Ziggy Marley</td>\n      <td>Good Old Days</td>\n      <td>/z/ziggy+marley/good+old+days_10198588.html</td>\n      <td>Irie days come on play  \\r\\nLet the angels fly...</td>\n    </tr>\n    <tr>\n      <th>57646</th>\n      <td>Ziggy Marley</td>\n      <td>Hand To Mouth</td>\n      <td>/z/ziggy+marley/hand+to+mouth_20531167.html</td>\n      <td>Power to the workers  \\r\\nMore power  \\r\\nPowe...</td>\n    </tr>\n    <tr>\n      <th>57647</th>\n      <td>Zwan</td>\n      <td>Come With Me</td>\n      <td>/z/zwan/come+with+me_20148981.html</td>\n      <td>all you need  \\r\\nis something i'll believe  \\...</td>\n    </tr>\n    <tr>\n      <th>57648</th>\n      <td>Zwan</td>\n      <td>Desire</td>\n      <td>/z/zwan/desire_20148986.html</td>\n      <td>northern star  \\r\\nam i frightened  \\r\\nwhere ...</td>\n    </tr>\n    <tr>\n      <th>57649</th>\n      <td>Zwan</td>\n      <td>Heartsong</td>\n      <td>/z/zwan/heartsong_20148991.html</td>\n      <td>come in  \\r\\nmake yourself at home  \\r\\ni'm a ...</td>\n    </tr>\n  </tbody>\n</table>\n</div>"
     },
     "execution_count": 5,
     "metadata": {},
     "output_type": "execute_result"
    }
   ],
   "source": [
    "df.tail(5)"
   ],
   "metadata": {
    "collapsed": false,
    "ExecuteTime": {
     "end_time": "2023-09-28T09:38:43.302643Z",
     "start_time": "2023-09-28T09:38:43.293790Z"
    }
   },
   "id": "6119dcc7e2c28682"
  },
  {
   "cell_type": "code",
   "execution_count": 6,
   "outputs": [
    {
     "data": {
      "text/plain": "(57650, 4)"
     },
     "execution_count": 6,
     "metadata": {},
     "output_type": "execute_result"
    }
   ],
   "source": [
    "df.shape"
   ],
   "metadata": {
    "collapsed": false,
    "ExecuteTime": {
     "end_time": "2023-09-28T09:38:43.315884Z",
     "start_time": "2023-09-28T09:38:43.304745Z"
    }
   },
   "id": "9606038b4193c2d8"
  },
  {
   "cell_type": "code",
   "execution_count": 7,
   "outputs": [
    {
     "data": {
      "text/plain": "artist    0\nsong      0\nlink      0\ntext      0\ndtype: int64"
     },
     "execution_count": 7,
     "metadata": {},
     "output_type": "execute_result"
    }
   ],
   "source": [
    "df.isnull().sum()"
   ],
   "metadata": {
    "collapsed": false,
    "ExecuteTime": {
     "end_time": "2023-09-28T09:38:43.373925Z",
     "start_time": "2023-09-28T09:38:43.323586Z"
    }
   },
   "id": "7c794c134fee3801"
  },
  {
   "cell_type": "code",
   "execution_count": 8,
   "outputs": [],
   "source": [
    "df =df.sample(5000).drop('link', axis=1).reset_index(drop=True)"
   ],
   "metadata": {
    "collapsed": false,
    "ExecuteTime": {
     "end_time": "2023-09-28T09:38:43.431368Z",
     "start_time": "2023-09-28T09:38:43.329460Z"
    }
   },
   "id": "50013fdc714da899"
  },
  {
   "cell_type": "code",
   "execution_count": 9,
   "outputs": [
    {
     "data": {
      "text/plain": "              artist                song  \\\n0  Dusty Springfield   A Love Like Yours   \n1     Gloria Estefan             Bad Boy   \n2     Billie Holiday        My Old Flame   \n3      One Direction   Better Than Words   \n4           You Am I       Cathy's Clown   \n5         X-Ray Spex  Highly Inflammable   \n6          Green Day      Fashion Victim   \n7        The Beatles        Besame Mucho   \n8          Pearl Jam           Open Road   \n9        Men At Work         Sail To You   \n\n                                                text  \n0  I broke your heart  \\r\\nAnd I made you blue  \\...  \n1  Bad boy, bad boy  \\r\\nBad boy, bad boy  \\r\\nBo...  \n2  My old flame  \\r\\nI can't even think of his na...  \n3  Better than words  \\r\\nBut more than a feeling...  \n4  The weightlifter and a library tech you know  ...  \n5  Highly inflammable  \\r\\nWaiting to explode  \\r...  \n6  He's a fashion victim of his own time  \\r\\nIn ...  \n7  Esame besame mucho,  \\r\\nEach time I bring you...  \n8  Can I have some water up?  \\r\\n  \\r\\n(You're t...  \n9  Now there is this place  \\r\\nWith so much spac...  ",
      "text/html": "<div>\n<style scoped>\n    .dataframe tbody tr th:only-of-type {\n        vertical-align: middle;\n    }\n\n    .dataframe tbody tr th {\n        vertical-align: top;\n    }\n\n    .dataframe thead th {\n        text-align: right;\n    }\n</style>\n<table border=\"1\" class=\"dataframe\">\n  <thead>\n    <tr style=\"text-align: right;\">\n      <th></th>\n      <th>artist</th>\n      <th>song</th>\n      <th>text</th>\n    </tr>\n  </thead>\n  <tbody>\n    <tr>\n      <th>0</th>\n      <td>Dusty Springfield</td>\n      <td>A Love Like Yours</td>\n      <td>I broke your heart  \\r\\nAnd I made you blue  \\...</td>\n    </tr>\n    <tr>\n      <th>1</th>\n      <td>Gloria Estefan</td>\n      <td>Bad Boy</td>\n      <td>Bad boy, bad boy  \\r\\nBad boy, bad boy  \\r\\nBo...</td>\n    </tr>\n    <tr>\n      <th>2</th>\n      <td>Billie Holiday</td>\n      <td>My Old Flame</td>\n      <td>My old flame  \\r\\nI can't even think of his na...</td>\n    </tr>\n    <tr>\n      <th>3</th>\n      <td>One Direction</td>\n      <td>Better Than Words</td>\n      <td>Better than words  \\r\\nBut more than a feeling...</td>\n    </tr>\n    <tr>\n      <th>4</th>\n      <td>You Am I</td>\n      <td>Cathy's Clown</td>\n      <td>The weightlifter and a library tech you know  ...</td>\n    </tr>\n    <tr>\n      <th>5</th>\n      <td>X-Ray Spex</td>\n      <td>Highly Inflammable</td>\n      <td>Highly inflammable  \\r\\nWaiting to explode  \\r...</td>\n    </tr>\n    <tr>\n      <th>6</th>\n      <td>Green Day</td>\n      <td>Fashion Victim</td>\n      <td>He's a fashion victim of his own time  \\r\\nIn ...</td>\n    </tr>\n    <tr>\n      <th>7</th>\n      <td>The Beatles</td>\n      <td>Besame Mucho</td>\n      <td>Esame besame mucho,  \\r\\nEach time I bring you...</td>\n    </tr>\n    <tr>\n      <th>8</th>\n      <td>Pearl Jam</td>\n      <td>Open Road</td>\n      <td>Can I have some water up?  \\r\\n  \\r\\n(You're t...</td>\n    </tr>\n    <tr>\n      <th>9</th>\n      <td>Men At Work</td>\n      <td>Sail To You</td>\n      <td>Now there is this place  \\r\\nWith so much spac...</td>\n    </tr>\n  </tbody>\n</table>\n</div>"
     },
     "execution_count": 9,
     "metadata": {},
     "output_type": "execute_result"
    }
   ],
   "source": [
    "df.head(10)"
   ],
   "metadata": {
    "collapsed": false,
    "ExecuteTime": {
     "end_time": "2023-09-28T09:38:43.432058Z",
     "start_time": "2023-09-28T09:38:43.349798Z"
    }
   },
   "id": "e6f5fb5d6c38a4d1"
  },
  {
   "cell_type": "code",
   "execution_count": 10,
   "outputs": [
    {
     "data": {
      "text/plain": "\"I broke your heart  \\r\\nAnd I made you blue  \\r\\nInstead of hurting back  \\r\\nYou said I love you  \\r\\nThat very day you won my heart  \\r\\nAnd my love for you shall never part  \\r\\n  \\r\\nYou have such an understanding way  \\r\\nAnd I appreciate you need what I say  \\r\\n'Cause a love like yours don't come knock, knock, knock, knocking  \\r\\nKnock, knocking everyday  \\r\\n  \\r\\nAlthough I treated you bad from the start  \\r\\nWithout question you gave me your heart  \\r\\nNo, a love like yours don't come knock, knock, knock, knocking  \\r\\nKnock, knocking everyday  \\r\\n  \\r\\nIt's the little things you do  \\r\\nOh, that mean so much  \\r\\nSo very, very much  \\r\\n(Consideration), I never knew  \\r\\nThat is, until I met you  \\r\\nBelieve me  \\r\\n  \\r\\nYou made my life complete  \\r\\nAnd I know our love with all of my mind  \\r\\nYou can believe going to hold on tight  \\r\\n'Cause a love like yours don't come knock, knock, knock, knocking  \\r\\nKnock, knocking everyday  \\r\\n  \\r\\nNo, a love like yours don't come knock, knock, knock, knocking  \\r\\nKnock, knocking everyday  \\r\\n  \\r\\nIt's the little things you do  \\r\\nThat mean so much  \\r\\nSo very, very much  \\r\\n(Consideration), no I never knew  \\r\\nThat is, until I met you  \\r\\nBelieve me  \\r\\n  \\r\\nYou made my life complete  \\r\\nAnd I know our love with all of my mind  \\r\\nYou can believe going to hold on tight  \\r\\n'Cause a love like yours don't come knock, knock, knock, knocking  \\r\\nKnock, knocking everyday  \\r\\nI said a love like yours, it don't come knocking  \\r\\nKnock, knocking everyday  \\r\\nI said a love like yours, it don't come, it don't come knocking  \\r\\nKnock, knocking everyday  \\r\\n'Cause a love like yours, it don't come knocking\\r\\n\\r\\n\""
     },
     "execution_count": 10,
     "metadata": {},
     "output_type": "execute_result"
    }
   ],
   "source": [
    "df['text'][0]"
   ],
   "metadata": {
    "collapsed": false,
    "ExecuteTime": {
     "end_time": "2023-09-28T09:39:15.047094Z",
     "start_time": "2023-09-28T09:39:15.038887Z"
    }
   },
   "id": "5710c3c6a542d5f9"
  },
  {
   "cell_type": "code",
   "execution_count": 11,
   "outputs": [
    {
     "data": {
      "text/plain": "(5000, 3)"
     },
     "execution_count": 11,
     "metadata": {},
     "output_type": "execute_result"
    }
   ],
   "source": [
    "df.shape"
   ],
   "metadata": {
    "collapsed": false,
    "ExecuteTime": {
     "end_time": "2023-09-28T09:39:16.079214Z",
     "start_time": "2023-09-28T09:39:16.071551Z"
    }
   },
   "id": "878a335b35ea586a"
  },
  {
   "cell_type": "code",
   "execution_count": 12,
   "outputs": [],
   "source": [
    "df['text'] = df['text'].str.lower().replace(r'^\\w\\s', ' ').replace(r'\\n', ' ', regex = True)"
   ],
   "metadata": {
    "collapsed": false,
    "ExecuteTime": {
     "end_time": "2023-09-28T09:39:37.057538Z",
     "start_time": "2023-09-28T09:39:36.929200Z"
    }
   },
   "id": "10b2ffedaacc0c8d"
  },
  {
   "cell_type": "code",
   "execution_count": 13,
   "outputs": [],
   "source": [
    "import nltk\n",
    "from nltk.stem.porter import PorterStemmer\n",
    "stemmer = PorterStemmer()\n",
    "\n",
    "def tokenization(txt):\n",
    "    tokens = nltk.word_tokenize(txt)\n",
    "    stemming = [stemmer.stem(w) for w in tokens]\n",
    "    return \" \".join(stemming)"
   ],
   "metadata": {
    "collapsed": false,
    "ExecuteTime": {
     "end_time": "2023-09-28T09:39:49.205800Z",
     "start_time": "2023-09-28T09:39:46.645305Z"
    }
   },
   "id": "60f528a9d683a2a4"
  },
  {
   "cell_type": "code",
   "execution_count": 14,
   "outputs": [],
   "source": [
    "df['text'] = df['text'].apply(lambda x: tokenization(x))"
   ],
   "metadata": {
    "collapsed": false,
    "ExecuteTime": {
     "end_time": "2023-09-28T09:40:20.848141Z",
     "start_time": "2023-09-28T09:39:56.010657Z"
    }
   },
   "id": "f331b4afb0a1033f"
  },
  {
   "cell_type": "code",
   "execution_count": 15,
   "outputs": [],
   "source": [
    "from sklearn.feature_extraction.text import TfidfVectorizer\n",
    "from sklearn.metrics.pairwise import cosine_similarity"
   ],
   "metadata": {
    "collapsed": false,
    "ExecuteTime": {
     "end_time": "2023-09-28T09:40:28.905944Z",
     "start_time": "2023-09-28T09:40:28.896410Z"
    }
   },
   "id": "2936da38a53d0ffd"
  },
  {
   "cell_type": "code",
   "execution_count": 16,
   "outputs": [],
   "source": [
    "tfidvector = TfidfVectorizer(analyzer='word',stop_words='english')\n",
    "matrix = tfidvector.fit_transform(df['text'])\n",
    "similarity = cosine_similarity(matrix)"
   ],
   "metadata": {
    "collapsed": false,
    "ExecuteTime": {
     "end_time": "2023-09-28T09:40:31.554226Z",
     "start_time": "2023-09-28T09:40:29.301668Z"
    }
   },
   "id": "c38d0ecca0d53a0b"
  },
  {
   "cell_type": "code",
   "execution_count": 17,
   "outputs": [
    {
     "data": {
      "text/plain": "array([1.        , 0.01543869, 0.01546077, ..., 0.00704821, 0.02116827,\n       0.00637553])"
     },
     "execution_count": 17,
     "metadata": {},
     "output_type": "execute_result"
    }
   ],
   "source": [
    "similarity[0]"
   ],
   "metadata": {
    "collapsed": false,
    "ExecuteTime": {
     "end_time": "2023-09-28T09:40:58.795152Z",
     "start_time": "2023-09-28T09:40:58.788870Z"
    }
   },
   "id": "1091cd21012a9b8"
  },
  {
   "cell_type": "code",
   "execution_count": 18,
   "outputs": [
    {
     "data": {
      "text/plain": "Empty DataFrame\nColumns: [artist, song, text]\nIndex: []",
      "text/html": "<div>\n<style scoped>\n    .dataframe tbody tr th:only-of-type {\n        vertical-align: middle;\n    }\n\n    .dataframe tbody tr th {\n        vertical-align: top;\n    }\n\n    .dataframe thead th {\n        text-align: right;\n    }\n</style>\n<table border=\"1\" class=\"dataframe\">\n  <thead>\n    <tr style=\"text-align: right;\">\n      <th></th>\n      <th>artist</th>\n      <th>song</th>\n      <th>text</th>\n    </tr>\n  </thead>\n  <tbody>\n  </tbody>\n</table>\n</div>"
     },
     "execution_count": 18,
     "metadata": {},
     "output_type": "execute_result"
    }
   ],
   "source": [
    "df[df['song'] == 'Crying Over You']"
   ],
   "metadata": {
    "collapsed": false,
    "ExecuteTime": {
     "end_time": "2023-09-28T09:40:58.986806Z",
     "start_time": "2023-09-28T09:40:58.982457Z"
    }
   },
   "id": "cecb4729cf9898ee"
  },
  {
   "cell_type": "code",
   "execution_count": 19,
   "outputs": [],
   "source": [
    "def recommendation(song_df):\n",
    "    idx = df[df['song'] == song_df].index[0]\n",
    "    distances = sorted(list(enumerate(similarity[idx])),reverse=True,key=lambda x:x[1])\n",
    "    \n",
    "    songs = []\n",
    "    for m_id in distances[1:21]:\n",
    "        songs.append(df.iloc[m_id[0]].song)\n",
    "        \n",
    "    return songs"
   ],
   "metadata": {
    "collapsed": false,
    "ExecuteTime": {
     "end_time": "2023-09-28T09:40:59.164574Z",
     "start_time": "2023-09-28T09:40:59.160810Z"
    }
   },
   "id": "96b181c8b5d7710"
  },
  {
   "cell_type": "code",
   "execution_count": 24,
   "outputs": [],
   "source": [
    "import pickle\n",
    "pickle.dump(similarity,open('similarity.pkl','wb'))\n",
    "pickle.dump(df,open('df.pkl','wb'))"
   ],
   "metadata": {
    "collapsed": false,
    "ExecuteTime": {
     "end_time": "2023-09-28T09:50:31.795325Z",
     "start_time": "2023-09-28T09:50:31.286442Z"
    }
   },
   "id": "47cdd3775a83b3a0"
  },
  {
   "cell_type": "code",
   "execution_count": null,
   "outputs": [],
   "source": [],
   "metadata": {
    "collapsed": false
   },
   "id": "4150fd36de4d51b3"
  }
 ],
 "metadata": {
  "kernelspec": {
   "display_name": "Python 3",
   "language": "python",
   "name": "python3"
  },
  "language_info": {
   "codemirror_mode": {
    "name": "ipython",
    "version": 2
   },
   "file_extension": ".py",
   "mimetype": "text/x-python",
   "name": "python",
   "nbconvert_exporter": "python",
   "pygments_lexer": "ipython2",
   "version": "2.7.6"
  }
 },
 "nbformat": 4,
 "nbformat_minor": 5
}
